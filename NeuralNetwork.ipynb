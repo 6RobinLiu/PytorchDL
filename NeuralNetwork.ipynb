{
  "nbformat": 4,
  "nbformat_minor": 0,
  "metadata": {
    "colab": {
      "provenance": [],
      "authorship_tag": "ABX9TyOmLs/WPKDFJRFmbVDZ2nZ0",
      "include_colab_link": true
    },
    "kernelspec": {
      "name": "python3",
      "display_name": "Python 3"
    },
    "language_info": {
      "name": "python"
    }
  },
  "cells": [
    {
      "cell_type": "markdown",
      "metadata": {
        "id": "view-in-github",
        "colab_type": "text"
      },
      "source": [
        "<a href=\"https://colab.research.google.com/github/6RobinLiu/PytorchDL/blob/main/NeuralNetwork.ipynb\" target=\"_parent\"><img src=\"https://colab.research.google.com/assets/colab-badge.svg\" alt=\"Open In Colab\"/></a>"
      ]
    },
    {
      "cell_type": "code",
      "execution_count": 1,
      "metadata": {
        "id": "APx1UMXcuVae"
      },
      "outputs": [],
      "source": [
        "import torch\n",
        "import torch.nn as nn\n",
        "import torch.optim as optim\n",
        "import torch.nn.functional as F\n",
        "from torch.utils.data import DataLoader\n",
        "import torchvision.datasets as datasets\n",
        "import torchvision.transforms as transforms"
      ]
    },
    {
      "cell_type": "markdown",
      "source": [
        "# Create Full Connected Network 全连接层"
      ],
      "metadata": {
        "id": "DhQVAY0gv_0R"
      }
    },
    {
      "cell_type": "code",
      "source": [
        "class NN(nn.Module):\n",
        "  def __init__(self,input_size,num_classes):\n",
        "    super().__init__()\n",
        "    self.fc1=nn.Linear(input_size,50)\n",
        "    self.fc2=nn.Linear(50,num_classes)\n",
        "\n",
        "  def forward(self,x):\n",
        "    x=F.relu(self.fc1(x))\n",
        "    x=self.fc2(x)\n",
        "    return x\n",
        "\n",
        "model=NN(784,10)\n",
        "x=torch.randn(64,784)\n",
        "print(model(x).shape)"
      ],
      "metadata": {
        "colab": {
          "base_uri": "https://localhost:8080/"
        },
        "id": "E4GvzgmAv_VK",
        "outputId": "b17b0dc6-b4fc-4dc8-fa2c-a2a2baf7431f"
      },
      "execution_count": 2,
      "outputs": [
        {
          "output_type": "stream",
          "name": "stdout",
          "text": [
            "torch.Size([64, 10])\n"
          ]
        }
      ]
    },
    {
      "cell_type": "markdown",
      "source": [
        "# Set Device"
      ],
      "metadata": {
        "id": "_Hh2qcu3SAU6"
      }
    },
    {
      "cell_type": "code",
      "source": [
        "device=torch.device('cuda' if torch.cuda.is_available() else 'cpu')\n"
      ],
      "metadata": {
        "id": "bNKdofA2SC41"
      },
      "execution_count": 3,
      "outputs": []
    },
    {
      "cell_type": "markdown",
      "source": [
        "# Hyperparameters"
      ],
      "metadata": {
        "id": "I6OPAptXSS1f"
      }
    },
    {
      "cell_type": "code",
      "source": [
        "input_size=784\n",
        "num_classess=10\n",
        "learning_rate=0.001\n",
        "batch_size=64\n",
        "num_epochs=1"
      ],
      "metadata": {
        "id": "7qnKtCk6SWJV"
      },
      "execution_count": 4,
      "outputs": []
    },
    {
      "cell_type": "markdown",
      "source": [
        "# Load Data"
      ],
      "metadata": {
        "id": "ij7rzx7xXF54"
      }
    },
    {
      "cell_type": "code",
      "source": [
        "train_dataset=datasets.MNIST(root='dataset/',train=True,transform=transforms.ToTensor(),download=True)\n",
        "train_loader=DataLoader(dataset=train_dataset,batch_size=batch_size,shuffle=True)\n",
        "test_dataset=datasets.MNIST(root='dataset/',train=False,transform=transforms.ToTensor(),download=True)\n",
        "test_loader=DataLoader(dataset=test_dataset,batch_size=batch_size,shuffle=True)\n"
      ],
      "metadata": {
        "colab": {
          "base_uri": "https://localhost:8080/"
        },
        "id": "jLXb4r5EXHym",
        "outputId": "bd0913ff-056f-430a-9de0-4ec409032be4"
      },
      "execution_count": 5,
      "outputs": [
        {
          "output_type": "stream",
          "name": "stderr",
          "text": [
            "100%|██████████| 9.91M/9.91M [00:00<00:00, 15.6MB/s]\n",
            "100%|██████████| 28.9k/28.9k [00:00<00:00, 532kB/s]\n",
            "100%|██████████| 1.65M/1.65M [00:00<00:00, 3.85MB/s]\n",
            "100%|██████████| 4.54k/4.54k [00:00<00:00, 6.68MB/s]\n"
          ]
        }
      ]
    },
    {
      "cell_type": "markdown",
      "source": [
        "# Loss and optimizer\n"
      ],
      "metadata": {
        "id": "piY1OvURXTeu"
      }
    },
    {
      "cell_type": "code",
      "source": [
        "criterion=nn.CrossEntropyLoss()\n",
        "optimizier=optim.Adam(model.parameters(),lr=learning_rate)"
      ],
      "metadata": {
        "id": "arngsXJEXYEW"
      },
      "execution_count": 6,
      "outputs": []
    },
    {
      "cell_type": "markdown",
      "source": [
        "# Train Network"
      ],
      "metadata": {
        "id": "apsFJs7aXkOO"
      }
    },
    {
      "cell_type": "code",
      "source": [
        "for epoch in range(num_epochs):\n",
        "  for batch_idx,(data,targets) in enumerate(train_loader):\n",
        "    # get data to cuda\n",
        "    data=data.to(device=device)\n",
        "    targets=targets.to(device=device)\n",
        "\n",
        "    # get to correct shape\n",
        "    data=data.reshape(data.shape[0],-1)\n",
        "\n",
        "    #forward\n",
        "    scores=model(data)\n",
        "    loss=criterion(scores,targets)\n",
        "\n",
        "    #backward\n",
        "    optimizier.zero_grad()\n",
        "    loss.backward()\n",
        "\n",
        "    #gradient descent or adam step\n",
        "    optimizier.step()"
      ],
      "metadata": {
        "id": "G74EaPWZXnT2"
      },
      "execution_count": 7,
      "outputs": []
    },
    {
      "cell_type": "markdown",
      "source": [
        "# Check accuracy"
      ],
      "metadata": {
        "id": "EVmJa3thksJR"
      }
    },
    {
      "cell_type": "code",
      "source": [
        "def check_accuracy(loader,model):\n",
        "  if loader.dataset.train:\n",
        "    print('Checking accuracy on training data')\n",
        "  else:\n",
        "    print('Checking accuracy on test data')\n",
        "  num_correct=0\n",
        "  num_samples=0\n",
        "  model.eval()\n",
        "\n",
        "  with torch.no_grad():\n",
        "    for x,y in loader:\n",
        "      x=x.to(device=device)\n",
        "      y=y.to(device=device)\n",
        "      x=x.reshape(x.shape[0],-1)\n",
        "\n",
        "      scores=model(x)\n",
        "      _,predictions=scores.max(1)\n",
        "      num_correct+=(predictions==y).sum()\n",
        "      num_samples+=predictions.size(0)\n",
        "    print(f'Got {num_correct}/{num_samples} with accuracy {float(num_correct)/float(num_samples)*100:.2f}')\n",
        "\n",
        "  model.train()\n",
        "\n",
        "check_accuracy(train_loader,model)\n",
        "check_accuracy(test_loader,model)"
      ],
      "metadata": {
        "colab": {
          "base_uri": "https://localhost:8080/"
        },
        "id": "qUcG8x2qkwSw",
        "outputId": "bde1d856-f0fe-47fb-9649-68b55e39c9f0"
      },
      "execution_count": 9,
      "outputs": [
        {
          "output_type": "stream",
          "name": "stdout",
          "text": [
            "Checking accuracy on training data\n",
            "Got 55832/60000 with accuracy 93.05\n",
            "Checking accuracy on test data\n",
            "Got 9323/10000 with accuracy 93.23\n"
          ]
        }
      ]
    }
  ]
}