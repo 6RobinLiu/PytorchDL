{
  "nbformat": 4,
  "nbformat_minor": 0,
  "metadata": {
    "colab": {
      "provenance": [],
      "authorship_tag": "ABX9TyNMCHtUvEzM4YOdO7VeHU0J",
      "include_colab_link": true
    },
    "kernelspec": {
      "name": "python3",
      "display_name": "Python 3"
    },
    "language_info": {
      "name": "python"
    }
  },
  "cells": [
    {
      "cell_type": "markdown",
      "metadata": {
        "id": "view-in-github",
        "colab_type": "text"
      },
      "source": [
        "<a href=\"https://colab.research.google.com/github/6RobinLiu/PytorchDL/blob/main/SimpleCNN.ipynb\" target=\"_parent\"><img src=\"https://colab.research.google.com/assets/colab-badge.svg\" alt=\"Open In Colab\"/></a>"
      ]
    },
    {
      "cell_type": "code",
      "execution_count": 11,
      "metadata": {
        "id": "9NueXNIYnOyj"
      },
      "outputs": [],
      "source": [
        "import torch\n",
        "import torch.nn as nn\n",
        "import torch.optim as optim\n",
        "import torch.nn.functional as F\n",
        "from torch.utils.data import DataLoader\n",
        "import torchvision.datasets as datasets\n",
        "import torchvision.transforms as transforms"
      ]
    },
    {
      "cell_type": "code",
      "source": [
        "class NN(nn.Module):\n",
        "  def __init__(self,input_size,num_classes):\n",
        "    super().__init__()\n",
        "    self.fc1=nn.Linear(input_size,50)\n",
        "    self.fc2=nn.Linear(50,num_classes)\n",
        "\n",
        "  def forward(self,x):\n",
        "    x=F.relu(self.fc1(x))\n",
        "    x=self.fc2(x)\n",
        "    return x"
      ],
      "metadata": {
        "id": "JEQ55fvYYKp-"
      },
      "execution_count": 12,
      "outputs": []
    },
    {
      "cell_type": "markdown",
      "source": [
        "# Create Simple Fullly Connected neural Network"
      ],
      "metadata": {
        "id": "C6eeV9mbYOW3"
      }
    },
    {
      "cell_type": "code",
      "source": [
        "class CNN(nn.Module):\n",
        "  def __init__(self,in_channels=1,num_classes=10):\n",
        "    super().__init__()\n",
        "    self.conv1=nn.Conv2d(in_channels=1,out_channels=8,kernel_size=(3,3),stride=(1,1),padding=(1,1))\n",
        "    self.pool=nn.MaxPool2d(kernel_size=(2,2),stride=(2,2))\n",
        "    self.conv2=nn.Conv2d(in_channels=8,out_channels=16,kernel_size=(3,3),stride=(1,1),padding=(1,1))\n",
        "    self.fc1=nn.Linear(16*7*7,num_classes)\n",
        "\n",
        "  def forward(self,x):\n",
        "    x=F.relu(self.conv1(x))\n",
        "    x=self.pool(x)\n",
        "    x=F.relu(self.conv2(x))\n",
        "    x=self.pool(x)\n",
        "    x=x.reshape(x.shape[0],-1)\n",
        "    x=self.fc1(x)\n",
        "    return x"
      ],
      "metadata": {
        "id": "CiRUghBgYNSv"
      },
      "execution_count": 13,
      "outputs": []
    },
    {
      "cell_type": "markdown",
      "source": [
        "# Deveice"
      ],
      "metadata": {
        "id": "LtuwL8qPs5Mz"
      }
    },
    {
      "cell_type": "code",
      "source": [
        "device=torch.device('cuda' if torch.cuda.is_available() else 'cpu')\n"
      ],
      "metadata": {
        "id": "j18wDnT4s7dx"
      },
      "execution_count": 14,
      "outputs": []
    },
    {
      "cell_type": "code",
      "source": [
        "in_channel=1\n",
        "num_classess=10\n",
        "learning_rate=0.001\n",
        "batch_size=64\n",
        "num_epochs=5"
      ],
      "metadata": {
        "id": "xr3rtJ9ps-9g"
      },
      "execution_count": 15,
      "outputs": []
    },
    {
      "cell_type": "code",
      "source": [
        "train_dataset=datasets.MNIST(root='dataset/',train=True,transform=transforms.ToTensor(),download=True)\n",
        "train_loader=DataLoader(dataset=train_dataset,batch_size=batch_size,shuffle=True)\n",
        "test_dataset=datasets.MNIST(root='dataset/',train=False,transform=transforms.ToTensor(),download=True)\n",
        "test_loader=DataLoader(dataset=test_dataset,batch_size=batch_size,shuffle=True)\n"
      ],
      "metadata": {
        "id": "vC-qpNBstFII"
      },
      "execution_count": 16,
      "outputs": []
    },
    {
      "cell_type": "code",
      "source": [
        "model=CNN().to(device)"
      ],
      "metadata": {
        "id": "sdd2ncfqtTiw"
      },
      "execution_count": 17,
      "outputs": []
    },
    {
      "cell_type": "code",
      "source": [
        "criterion=nn.CrossEntropyLoss()\n",
        "optimizier=optim.Adam(model.parameters(),lr=learning_rate)"
      ],
      "metadata": {
        "id": "foEkrQlMtIIo"
      },
      "execution_count": 18,
      "outputs": []
    },
    {
      "cell_type": "code",
      "source": [
        "for epoch in range(num_epochs):\n",
        "  for batch_idx,(data,targets) in enumerate(train_loader):\n",
        "    # get data to cuda\n",
        "    data=data.to(device=device)\n",
        "    targets=targets.to(device=device)\n",
        "\n",
        "    #forward\n",
        "    scores=model(data)\n",
        "    loss=criterion(scores,targets)\n",
        "\n",
        "    #backward\n",
        "    optimizier.zero_grad()\n",
        "    loss.backward()\n",
        "\n",
        "    #gradient descent or adam step\n",
        "    optimizier.step()"
      ],
      "metadata": {
        "id": "4UiiwsCptSVj"
      },
      "execution_count": 9,
      "outputs": []
    },
    {
      "cell_type": "code",
      "source": [
        "def check_accuracy(loader,model):\n",
        "  if loader.dataset.train:\n",
        "    print('Checking accuracy on training data')\n",
        "  else:\n",
        "    print('Checking accuracy on test data')\n",
        "  num_correct=0\n",
        "  num_samples=0\n",
        "  model.eval()\n",
        "\n",
        "  with torch.no_grad():\n",
        "    for x,y in loader:\n",
        "      x=x.to(device=device)\n",
        "      y=y.to(device=device)\n",
        "\n",
        "      scores=model(x)\n",
        "      _,predictions=scores.max(1)\n",
        "      num_correct+=(predictions==y).sum()\n",
        "      num_samples+=predictions.size(0)\n",
        "    print(f'Got {num_correct}/{num_samples} with accuracy {float(num_correct)/float(num_samples)*100:.2f}')\n",
        "\n",
        "  model.train()\n",
        "\n",
        "check_accuracy(train_loader,model)\n",
        "check_accuracy(test_loader,model)"
      ],
      "metadata": {
        "colab": {
          "base_uri": "https://localhost:8080/"
        },
        "id": "n8YtQk3yt4VR",
        "outputId": "84d4e026-d97b-4b02-ceba-cd80e68315ac"
      },
      "execution_count": 10,
      "outputs": [
        {
          "output_type": "stream",
          "name": "stdout",
          "text": [
            "Checking accuracy on training data\n",
            "Got 59210/60000 with accuracy 98.68\n",
            "Checking accuracy on test data\n",
            "Got 9842/10000 with accuracy 98.42\n"
          ]
        }
      ]
    }
  ]
}