{
  "nbformat": 4,
  "nbformat_minor": 0,
  "metadata": {
    "colab": {
      "provenance": [],
      "authorship_tag": "ABX9TyP5Q8+XUWi8CxlmnKMqaS4j",
      "include_colab_link": true
    },
    "kernelspec": {
      "name": "python3",
      "display_name": "Python 3"
    },
    "language_info": {
      "name": "python"
    }
  },
  "cells": [
    {
      "cell_type": "markdown",
      "metadata": {
        "id": "view-in-github",
        "colab_type": "text"
      },
      "source": [
        "<a href=\"https://colab.research.google.com/github/6RobinLiu/PytorchDL/blob/main/PytorchBasic.ipynb\" target=\"_parent\"><img src=\"https://colab.research.google.com/assets/colab-badge.svg\" alt=\"Open In Colab\"/></a>"
      ]
    },
    {
      "cell_type": "code",
      "execution_count": 2,
      "metadata": {
        "id": "CGSH9hXqp57V",
        "colab": {
          "base_uri": "https://localhost:8080/"
        },
        "outputId": "5e2835d9-509a-4b31-843b-0cc066f897c7"
      },
      "outputs": [
        {
          "output_type": "stream",
          "name": "stdout",
          "text": [
            "Requirement already satisfied: torch in /usr/local/lib/python3.11/dist-packages (2.6.0+cu124)\n",
            "Requirement already satisfied: filelock in /usr/local/lib/python3.11/dist-packages (from torch) (3.18.0)\n",
            "Requirement already satisfied: typing-extensions>=4.10.0 in /usr/local/lib/python3.11/dist-packages (from torch) (4.14.1)\n",
            "Requirement already satisfied: networkx in /usr/local/lib/python3.11/dist-packages (from torch) (3.5)\n",
            "Requirement already satisfied: jinja2 in /usr/local/lib/python3.11/dist-packages (from torch) (3.1.6)\n",
            "Requirement already satisfied: fsspec in /usr/local/lib/python3.11/dist-packages (from torch) (2025.3.2)\n",
            "Collecting nvidia-cuda-nvrtc-cu12==12.4.127 (from torch)\n",
            "  Downloading nvidia_cuda_nvrtc_cu12-12.4.127-py3-none-manylinux2014_x86_64.whl.metadata (1.5 kB)\n",
            "Collecting nvidia-cuda-runtime-cu12==12.4.127 (from torch)\n",
            "  Downloading nvidia_cuda_runtime_cu12-12.4.127-py3-none-manylinux2014_x86_64.whl.metadata (1.5 kB)\n",
            "Collecting nvidia-cuda-cupti-cu12==12.4.127 (from torch)\n",
            "  Downloading nvidia_cuda_cupti_cu12-12.4.127-py3-none-manylinux2014_x86_64.whl.metadata (1.6 kB)\n",
            "Collecting nvidia-cudnn-cu12==9.1.0.70 (from torch)\n",
            "  Downloading nvidia_cudnn_cu12-9.1.0.70-py3-none-manylinux2014_x86_64.whl.metadata (1.6 kB)\n",
            "Collecting nvidia-cublas-cu12==12.4.5.8 (from torch)\n",
            "  Downloading nvidia_cublas_cu12-12.4.5.8-py3-none-manylinux2014_x86_64.whl.metadata (1.5 kB)\n",
            "Collecting nvidia-cufft-cu12==11.2.1.3 (from torch)\n",
            "  Downloading nvidia_cufft_cu12-11.2.1.3-py3-none-manylinux2014_x86_64.whl.metadata (1.5 kB)\n",
            "Collecting nvidia-curand-cu12==10.3.5.147 (from torch)\n",
            "  Downloading nvidia_curand_cu12-10.3.5.147-py3-none-manylinux2014_x86_64.whl.metadata (1.5 kB)\n",
            "Collecting nvidia-cusolver-cu12==11.6.1.9 (from torch)\n",
            "  Downloading nvidia_cusolver_cu12-11.6.1.9-py3-none-manylinux2014_x86_64.whl.metadata (1.6 kB)\n",
            "Collecting nvidia-cusparse-cu12==12.3.1.170 (from torch)\n",
            "  Downloading nvidia_cusparse_cu12-12.3.1.170-py3-none-manylinux2014_x86_64.whl.metadata (1.6 kB)\n",
            "Requirement already satisfied: nvidia-cusparselt-cu12==0.6.2 in /usr/local/lib/python3.11/dist-packages (from torch) (0.6.2)\n",
            "Requirement already satisfied: nvidia-nccl-cu12==2.21.5 in /usr/local/lib/python3.11/dist-packages (from torch) (2.21.5)\n",
            "Requirement already satisfied: nvidia-nvtx-cu12==12.4.127 in /usr/local/lib/python3.11/dist-packages (from torch) (12.4.127)\n",
            "Collecting nvidia-nvjitlink-cu12==12.4.127 (from torch)\n",
            "  Downloading nvidia_nvjitlink_cu12-12.4.127-py3-none-manylinux2014_x86_64.whl.metadata (1.5 kB)\n",
            "Requirement already satisfied: triton==3.2.0 in /usr/local/lib/python3.11/dist-packages (from torch) (3.2.0)\n",
            "Requirement already satisfied: sympy==1.13.1 in /usr/local/lib/python3.11/dist-packages (from torch) (1.13.1)\n",
            "Requirement already satisfied: mpmath<1.4,>=1.1.0 in /usr/local/lib/python3.11/dist-packages (from sympy==1.13.1->torch) (1.3.0)\n",
            "Requirement already satisfied: MarkupSafe>=2.0 in /usr/local/lib/python3.11/dist-packages (from jinja2->torch) (3.0.2)\n",
            "Downloading nvidia_cublas_cu12-12.4.5.8-py3-none-manylinux2014_x86_64.whl (363.4 MB)\n",
            "\u001b[2K   \u001b[90m━━━━━━━━━━━━━━━━━━━━━━━━━━━━━━━━━━━━━━━━\u001b[0m \u001b[32m363.4/363.4 MB\u001b[0m \u001b[31m4.4 MB/s\u001b[0m eta \u001b[36m0:00:00\u001b[0m\n",
            "\u001b[?25hDownloading nvidia_cuda_cupti_cu12-12.4.127-py3-none-manylinux2014_x86_64.whl (13.8 MB)\n",
            "\u001b[2K   \u001b[90m━━━━━━━━━━━━━━━━━━━━━━━━━━━━━━━━━━━━━━━━\u001b[0m \u001b[32m13.8/13.8 MB\u001b[0m \u001b[31m69.6 MB/s\u001b[0m eta \u001b[36m0:00:00\u001b[0m\n",
            "\u001b[?25hDownloading nvidia_cuda_nvrtc_cu12-12.4.127-py3-none-manylinux2014_x86_64.whl (24.6 MB)\n",
            "\u001b[2K   \u001b[90m━━━━━━━━━━━━━━━━━━━━━━━━━━━━━━━━━━━━━━━━\u001b[0m \u001b[32m24.6/24.6 MB\u001b[0m \u001b[31m55.2 MB/s\u001b[0m eta \u001b[36m0:00:00\u001b[0m\n",
            "\u001b[?25hDownloading nvidia_cuda_runtime_cu12-12.4.127-py3-none-manylinux2014_x86_64.whl (883 kB)\n",
            "\u001b[2K   \u001b[90m━━━━━━━━━━━━━━━━━━━━━━━━━━━━━━━━━━━━━━━━\u001b[0m \u001b[32m883.7/883.7 kB\u001b[0m \u001b[31m40.1 MB/s\u001b[0m eta \u001b[36m0:00:00\u001b[0m\n",
            "\u001b[?25hDownloading nvidia_cudnn_cu12-9.1.0.70-py3-none-manylinux2014_x86_64.whl (664.8 MB)\n",
            "\u001b[2K   \u001b[90m━━━━━━━━━━━━━━━━━━━━━━━━━━━━━━━━━━━━━━━━\u001b[0m \u001b[32m664.8/664.8 MB\u001b[0m \u001b[31m2.8 MB/s\u001b[0m eta \u001b[36m0:00:00\u001b[0m\n",
            "\u001b[?25hDownloading nvidia_cufft_cu12-11.2.1.3-py3-none-manylinux2014_x86_64.whl (211.5 MB)\n",
            "\u001b[2K   \u001b[90m━━━━━━━━━━━━━━━━━━━━━━━━━━━━━━━━━━━━━━━━\u001b[0m \u001b[32m211.5/211.5 MB\u001b[0m \u001b[31m5.4 MB/s\u001b[0m eta \u001b[36m0:00:00\u001b[0m\n",
            "\u001b[?25hDownloading nvidia_curand_cu12-10.3.5.147-py3-none-manylinux2014_x86_64.whl (56.3 MB)\n",
            "\u001b[2K   \u001b[90m━━━━━━━━━━━━━━━━━━━━━━━━━━━━━━━━━━━━━━━━\u001b[0m \u001b[32m56.3/56.3 MB\u001b[0m \u001b[31m12.0 MB/s\u001b[0m eta \u001b[36m0:00:00\u001b[0m\n",
            "\u001b[?25hDownloading nvidia_cusolver_cu12-11.6.1.9-py3-none-manylinux2014_x86_64.whl (127.9 MB)\n",
            "\u001b[2K   \u001b[90m━━━━━━━━━━━━━━━━━━━━━━━━━━━━━━━━━━━━━━━━\u001b[0m \u001b[32m127.9/127.9 MB\u001b[0m \u001b[31m7.5 MB/s\u001b[0m eta \u001b[36m0:00:00\u001b[0m\n",
            "\u001b[?25hDownloading nvidia_cusparse_cu12-12.3.1.170-py3-none-manylinux2014_x86_64.whl (207.5 MB)\n",
            "\u001b[2K   \u001b[90m━━━━━━━━━━━━━━━━━━━━━━━━━━━━━━━━━━━━━━━━\u001b[0m \u001b[32m207.5/207.5 MB\u001b[0m \u001b[31m5.8 MB/s\u001b[0m eta \u001b[36m0:00:00\u001b[0m\n",
            "\u001b[?25hDownloading nvidia_nvjitlink_cu12-12.4.127-py3-none-manylinux2014_x86_64.whl (21.1 MB)\n",
            "\u001b[2K   \u001b[90m━━━━━━━━━━━━━━━━━━━━━━━━━━━━━━━━━━━━━━━━\u001b[0m \u001b[32m21.1/21.1 MB\u001b[0m \u001b[31m79.2 MB/s\u001b[0m eta \u001b[36m0:00:00\u001b[0m\n",
            "\u001b[?25hInstalling collected packages: nvidia-nvjitlink-cu12, nvidia-curand-cu12, nvidia-cufft-cu12, nvidia-cuda-runtime-cu12, nvidia-cuda-nvrtc-cu12, nvidia-cuda-cupti-cu12, nvidia-cublas-cu12, nvidia-cusparse-cu12, nvidia-cudnn-cu12, nvidia-cusolver-cu12\n",
            "  Attempting uninstall: nvidia-nvjitlink-cu12\n",
            "    Found existing installation: nvidia-nvjitlink-cu12 12.5.82\n",
            "    Uninstalling nvidia-nvjitlink-cu12-12.5.82:\n",
            "      Successfully uninstalled nvidia-nvjitlink-cu12-12.5.82\n",
            "  Attempting uninstall: nvidia-curand-cu12\n",
            "    Found existing installation: nvidia-curand-cu12 10.3.6.82\n",
            "    Uninstalling nvidia-curand-cu12-10.3.6.82:\n",
            "      Successfully uninstalled nvidia-curand-cu12-10.3.6.82\n",
            "  Attempting uninstall: nvidia-cufft-cu12\n",
            "    Found existing installation: nvidia-cufft-cu12 11.2.3.61\n",
            "    Uninstalling nvidia-cufft-cu12-11.2.3.61:\n",
            "      Successfully uninstalled nvidia-cufft-cu12-11.2.3.61\n",
            "  Attempting uninstall: nvidia-cuda-runtime-cu12\n",
            "    Found existing installation: nvidia-cuda-runtime-cu12 12.5.82\n",
            "    Uninstalling nvidia-cuda-runtime-cu12-12.5.82:\n",
            "      Successfully uninstalled nvidia-cuda-runtime-cu12-12.5.82\n",
            "  Attempting uninstall: nvidia-cuda-nvrtc-cu12\n",
            "    Found existing installation: nvidia-cuda-nvrtc-cu12 12.5.82\n",
            "    Uninstalling nvidia-cuda-nvrtc-cu12-12.5.82:\n",
            "      Successfully uninstalled nvidia-cuda-nvrtc-cu12-12.5.82\n",
            "  Attempting uninstall: nvidia-cuda-cupti-cu12\n",
            "    Found existing installation: nvidia-cuda-cupti-cu12 12.5.82\n",
            "    Uninstalling nvidia-cuda-cupti-cu12-12.5.82:\n",
            "      Successfully uninstalled nvidia-cuda-cupti-cu12-12.5.82\n",
            "  Attempting uninstall: nvidia-cublas-cu12\n",
            "    Found existing installation: nvidia-cublas-cu12 12.5.3.2\n",
            "    Uninstalling nvidia-cublas-cu12-12.5.3.2:\n",
            "      Successfully uninstalled nvidia-cublas-cu12-12.5.3.2\n",
            "  Attempting uninstall: nvidia-cusparse-cu12\n",
            "    Found existing installation: nvidia-cusparse-cu12 12.5.1.3\n",
            "    Uninstalling nvidia-cusparse-cu12-12.5.1.3:\n",
            "      Successfully uninstalled nvidia-cusparse-cu12-12.5.1.3\n",
            "  Attempting uninstall: nvidia-cudnn-cu12\n",
            "    Found existing installation: nvidia-cudnn-cu12 9.3.0.75\n",
            "    Uninstalling nvidia-cudnn-cu12-9.3.0.75:\n",
            "      Successfully uninstalled nvidia-cudnn-cu12-9.3.0.75\n",
            "  Attempting uninstall: nvidia-cusolver-cu12\n",
            "    Found existing installation: nvidia-cusolver-cu12 11.6.3.83\n",
            "    Uninstalling nvidia-cusolver-cu12-11.6.3.83:\n",
            "      Successfully uninstalled nvidia-cusolver-cu12-11.6.3.83\n",
            "Successfully installed nvidia-cublas-cu12-12.4.5.8 nvidia-cuda-cupti-cu12-12.4.127 nvidia-cuda-nvrtc-cu12-12.4.127 nvidia-cuda-runtime-cu12-12.4.127 nvidia-cudnn-cu12-9.1.0.70 nvidia-cufft-cu12-11.2.1.3 nvidia-curand-cu12-10.3.5.147 nvidia-cusolver-cu12-11.6.1.9 nvidia-cusparse-cu12-12.3.1.170 nvidia-nvjitlink-cu12-12.4.127\n"
          ]
        }
      ],
      "source": [
        "pip install torch"
      ]
    },
    {
      "cell_type": "code",
      "source": [
        "import torch\n",
        "tensor1=torch.tensor([[1,2,3],[4,5,6]])\n",
        "tensor1.shape"
      ],
      "metadata": {
        "colab": {
          "base_uri": "https://localhost:8080/"
        },
        "id": "N90ifeczmI7b",
        "outputId": "16bbb25c-ed32-4e27-ffb1-59258cd9dc2a"
      },
      "execution_count": 3,
      "outputs": [
        {
          "output_type": "execute_result",
          "data": {
            "text/plain": [
              "torch.Size([2, 3])"
            ]
          },
          "metadata": {},
          "execution_count": 3
        }
      ]
    },
    {
      "cell_type": "code",
      "source": [
        "tensor=torch.arange(4)\n",
        "print(tensor.bool())"
      ],
      "metadata": {
        "colab": {
          "base_uri": "https://localhost:8080/"
        },
        "id": "oGMg19Imm4WC",
        "outputId": "9f9681d2-0bd5-4ca2-80b1-bad55ca557cb"
      },
      "execution_count": 4,
      "outputs": [
        {
          "output_type": "stream",
          "name": "stdout",
          "text": [
            "tensor([False,  True,  True,  True])\n"
          ]
        }
      ]
    },
    {
      "cell_type": "code",
      "source": [
        "import numpy as np\n",
        "\n",
        "array=np.zeros((5,5))\n",
        "type(array)"
      ],
      "metadata": {
        "colab": {
          "base_uri": "https://localhost:8080/"
        },
        "id": "X3JKtanknNHa",
        "outputId": "c5dfffc6-8a5c-44c3-a32f-890ef189063a"
      },
      "execution_count": 5,
      "outputs": [
        {
          "output_type": "execute_result",
          "data": {
            "text/plain": [
              "numpy.ndarray"
            ]
          },
          "metadata": {},
          "execution_count": 5
        }
      ]
    },
    {
      "cell_type": "code",
      "source": [
        "tensor=torch.from_numpy(array)\n",
        "type(tensor)"
      ],
      "metadata": {
        "colab": {
          "base_uri": "https://localhost:8080/"
        },
        "id": "1DrELwXon6_w",
        "outputId": "09c7ff3c-c4f6-4d3c-dac9-cd66108c8c8c"
      },
      "execution_count": 6,
      "outputs": [
        {
          "output_type": "execute_result",
          "data": {
            "text/plain": [
              "torch.Tensor"
            ]
          },
          "metadata": {},
          "execution_count": 6
        }
      ]
    },
    {
      "cell_type": "markdown",
      "source": [
        "# Tensor Math and Comparison"
      ],
      "metadata": {
        "id": "ruQwzubsoOUe"
      }
    },
    {
      "cell_type": "code",
      "source": [
        "x=torch.tensor([1,2,3])\n",
        "y=torch.tensor([9,8,7])\n",
        "\n",
        "z1=x+y\n",
        "z2=x-y\n",
        "\n",
        "z=torch.true_divide(x,y)\n",
        "\n",
        "t=torch.zeros(3)\n",
        "t.add_(x)\n",
        "z1,z2,z,t"
      ],
      "metadata": {
        "colab": {
          "base_uri": "https://localhost:8080/"
        },
        "id": "t9EJgPMyoVQm",
        "outputId": "b1dd5f5d-4829-44dc-fa02-450a8a96c8e5"
      },
      "execution_count": 7,
      "outputs": [
        {
          "output_type": "execute_result",
          "data": {
            "text/plain": [
              "(tensor([10, 10, 10]),\n",
              " tensor([-8, -6, -4]),\n",
              " tensor([0.1111, 0.2500, 0.4286]),\n",
              " tensor([1., 2., 3.]))"
            ]
          },
          "metadata": {},
          "execution_count": 7
        }
      ]
    },
    {
      "cell_type": "markdown",
      "source": [
        "上面的这个加法表示原来的int类型的tensor加上浮点类型的0向量，就变成了浮点类型的tensor\n",
        "\n",
        "也就是做了一次类型转换\n",
        "\n",
        "并且使用的是add_() 也就是原地的加法   没有产生新的变量  如t=t+x\n",
        "```\n",
        "x = torch.tensor([1, 2, 3])\n",
        "t = x.float()\n",
        "\n",
        "```\n",
        "上述就是直接的类型转换\n",
        "\n",
        "- 在训练模型、调试、实验阶段  尽量不要使用原地的加法，这样兼容autograd 也不容易出bug\n",
        "- 在部署 优化  或者又大量的tensor加减中 可以使用原地的加法，加快速度\n",
        "\n",
        "下面是一个测试的例子\n",
        "\n",
        "演示了时间的快慢\n",
        "\n"
      ],
      "metadata": {
        "id": "BDh1vil2sG04"
      }
    },
    {
      "cell_type": "code",
      "source": [
        "import time\n",
        "\n",
        "x = torch.rand(10000)\n",
        "y = torch.rand(10000)\n",
        "\n",
        "# 非原地\n",
        "start = time.time()\n",
        "for _ in range(10000):\n",
        "    z = x + y\n",
        "print(\"非原地耗时:\", time.time() - start)\n",
        "\n",
        "# 原地\n",
        "z = torch.zeros(10000)\n",
        "start = time.time()\n",
        "for _ in range(10000):\n",
        "    z.add_(x)\n",
        "print(\"原地耗时:\", time.time() - start)"
      ],
      "metadata": {
        "colab": {
          "base_uri": "https://localhost:8080/"
        },
        "id": "MrxDhmPMtIO_",
        "outputId": "f462dd17-b20d-49ce-d8b3-6286a6b1ab40"
      },
      "execution_count": 8,
      "outputs": [
        {
          "output_type": "stream",
          "name": "stdout",
          "text": [
            "非原地耗时: 0.20708751678466797\n",
            "原地耗时: 0.08061909675598145\n"
          ]
        }
      ]
    },
    {
      "cell_type": "code",
      "source": [
        "# 指数运算\n",
        "x=torch.tensor([1,2,3])\n",
        "z1=x.pow(2)\n",
        "z2=x**2\n",
        "z1,z2"
      ],
      "metadata": {
        "colab": {
          "base_uri": "https://localhost:8080/"
        },
        "id": "J4gUOdCbuJAJ",
        "outputId": "a649a6ec-84cd-425a-9027-725e1c067ed0"
      },
      "execution_count": 9,
      "outputs": [
        {
          "output_type": "execute_result",
          "data": {
            "text/plain": [
              "(tensor([1, 4, 9]), tensor([1, 4, 9]))"
            ]
          },
          "metadata": {},
          "execution_count": 9
        }
      ]
    },
    {
      "cell_type": "code",
      "source": [
        "#矩阵乘法\n",
        "x1=torch.rand((2,5))\n",
        "x2=torch.rand((5,3))\n",
        "x3=torch.mm(x1,x2)\n",
        "x3=x1.mm(x2)\n",
        "x3"
      ],
      "metadata": {
        "colab": {
          "base_uri": "https://localhost:8080/"
        },
        "id": "1qyCRf_mvtSt",
        "outputId": "9e1a625d-735b-42c1-f175-74389e7c7b73"
      },
      "execution_count": 10,
      "outputs": [
        {
          "output_type": "execute_result",
          "data": {
            "text/plain": [
              "tensor([[1.6967, 1.9975, 1.3636],\n",
              "        [1.1354, 0.8744, 0.7160]])"
            ]
          },
          "metadata": {},
          "execution_count": 10
        }
      ]
    },
    {
      "cell_type": "code",
      "source": [
        "#矩阵乘方\n",
        "matrix=torch.rand(5,5)\n",
        "matrix.matrix_power(3)"
      ],
      "metadata": {
        "colab": {
          "base_uri": "https://localhost:8080/"
        },
        "id": "s1aReAlkwRbV",
        "outputId": "1d0231af-d489-4ffb-a5e2-7bcab63e8d04"
      },
      "execution_count": 11,
      "outputs": [
        {
          "output_type": "execute_result",
          "data": {
            "text/plain": [
              "tensor([[2.0009, 3.4415, 2.9471, 1.7796, 2.1576],\n",
              "        [1.7306, 3.0893, 2.6046, 1.5700, 1.8578],\n",
              "        [2.0984, 3.6532, 3.1464, 1.8484, 2.2746],\n",
              "        [2.0478, 3.5922, 3.0799, 1.8402, 2.2303],\n",
              "        [3.6261, 6.4268, 5.4484, 3.2397, 3.9177]])"
            ]
          },
          "metadata": {},
          "execution_count": 11
        }
      ]
    },
    {
      "cell_type": "code",
      "source": [
        "#依次相乘\n",
        "x1=torch.tensor([1,2,3])\n",
        "x2=torch.tensor([4,5,6])\n",
        "z=x1*x2\n",
        "z"
      ],
      "metadata": {
        "colab": {
          "base_uri": "https://localhost:8080/"
        },
        "id": "TreZedoIxAPL",
        "outputId": "92175602-951e-4838-8de3-998236599b55"
      },
      "execution_count": 12,
      "outputs": [
        {
          "output_type": "execute_result",
          "data": {
            "text/plain": [
              "tensor([ 4, 10, 18])"
            ]
          },
          "metadata": {},
          "execution_count": 12
        }
      ]
    },
    {
      "cell_type": "code",
      "source": [
        "# 点积\n",
        "z=torch.dot(x1,x2)\n",
        "z"
      ],
      "metadata": {
        "colab": {
          "base_uri": "https://localhost:8080/"
        },
        "id": "yzshCgb3xcb1",
        "outputId": "ea830dd4-3371-4542-ed2f-754935759409"
      },
      "execution_count": 13,
      "outputs": [
        {
          "output_type": "execute_result",
          "data": {
            "text/plain": [
              "tensor(32)"
            ]
          },
          "metadata": {},
          "execution_count": 13
        }
      ]
    },
    {
      "cell_type": "code",
      "source": [
        "# 批矩阵相乘\n",
        "batch=32\n",
        "m=10\n",
        "n=20\n",
        "p=30\n",
        "\n",
        "tensor1=torch.rand((batch,m,n))\n",
        "tensor2=torch.rand((batch,n,p))\n",
        "tensor=torch.bmm(tensor1,tensor2)  # batch 乘\n",
        "tensor.shape\n"
      ],
      "metadata": {
        "colab": {
          "base_uri": "https://localhost:8080/"
        },
        "id": "GjAlfXGHz1f6",
        "outputId": "3077aec8-4693-46b9-d17f-c15341eb1ff3"
      },
      "execution_count": 14,
      "outputs": [
        {
          "output_type": "execute_result",
          "data": {
            "text/plain": [
              "torch.Size([32, 10, 30])"
            ]
          },
          "metadata": {},
          "execution_count": 14
        }
      ]
    },
    {
      "cell_type": "markdown",
      "source": [
        "# 其他"
      ],
      "metadata": {
        "id": "WOSng-HR0xBC"
      }
    },
    {
      "cell_type": "code",
      "source": [
        "x1=torch.rand((5,5))\n",
        "x2=torch.rand((1,5))\n",
        "\n",
        "z1=x1-x2\n",
        "z2=x1**x2\n",
        "x1,x2,z1,z2"
      ],
      "metadata": {
        "colab": {
          "base_uri": "https://localhost:8080/"
        },
        "id": "b5y0AoCq00hK",
        "outputId": "6a315f5a-d5e8-4bc0-8a27-0894a840bc91"
      },
      "execution_count": 15,
      "outputs": [
        {
          "output_type": "execute_result",
          "data": {
            "text/plain": [
              "(tensor([[0.3779, 0.2753, 0.2769, 0.5905, 0.8402],\n",
              "         [0.6845, 0.9392, 0.0452, 0.0543, 0.3886],\n",
              "         [0.8359, 0.5948, 0.8032, 0.6136, 0.3189],\n",
              "         [0.4625, 0.6930, 0.6307, 0.1804, 0.8149],\n",
              "         [0.4709, 0.9123, 0.8997, 0.8660, 0.4424]]),\n",
              " tensor([[0.1031, 0.5260, 0.6549, 0.3517, 0.6105]]),\n",
              " tensor([[ 0.2747, -0.2507, -0.3780,  0.2387,  0.2297],\n",
              "         [ 0.5813,  0.4132, -0.6097, -0.2975, -0.2219],\n",
              "         [ 0.7327,  0.0688,  0.1484,  0.2619, -0.2916],\n",
              "         [ 0.3594,  0.1670, -0.0242, -0.1713,  0.2044],\n",
              "         [ 0.3678,  0.3863,  0.2448,  0.5142, -0.1681]]),\n",
              " tensor([[0.9045, 0.5074, 0.4313, 0.8308, 0.8992],\n",
              "         [0.9617, 0.9675, 0.1316, 0.3589, 0.5616],\n",
              "         [0.9817, 0.7609, 0.8663, 0.8422, 0.4977],\n",
              "         [0.9236, 0.8246, 0.7395, 0.5475, 0.8825],\n",
              "         [0.9253, 0.9529, 0.9331, 0.9506, 0.6078]]))"
            ]
          },
          "metadata": {},
          "execution_count": 15
        }
      ]
    },
    {
      "cell_type": "markdown",
      "source": [
        "这里的x2实际上就是在做运算时  把每一行复制一份\n",
        "\n",
        "这个也叫  广播机制"
      ],
      "metadata": {
        "id": "VtG6jRHC_1V5"
      }
    },
    {
      "cell_type": "code",
      "source": [
        "x=torch.tensor([[1,2,3],[4,5,6]])\n",
        "sum1=torch.sum(x)\n",
        "sum2=torch.sum(x,dim=0)\n",
        "sum3=torch.sum(x,dim=1)\n",
        "sum1,sum2,sum3"
      ],
      "metadata": {
        "colab": {
          "base_uri": "https://localhost:8080/"
        },
        "id": "3wT5DGKZ4HLp",
        "outputId": "22bbe2af-4fb5-47a3-ab12-56ed09f850c0"
      },
      "execution_count": 16,
      "outputs": [
        {
          "output_type": "execute_result",
          "data": {
            "text/plain": [
              "(tensor(21), tensor([5, 7, 9]), tensor([ 6, 15]))"
            ]
          },
          "metadata": {},
          "execution_count": 16
        }
      ]
    },
    {
      "cell_type": "markdown",
      "source": [
        "dim控制的是在哪个维度上聚合\n",
        "dim=0  就是沿着第0维压缩  也就是列求和\n",
        "dim=1  就是沿着第1维压缩  也就是行求和\n",
        ".....\n",
        "\n",
        "dim与tensor的维度有关\n",
        "\n",
        "$$\n",
        "-rank<=dim<rank$$\n",
        "\n",
        "若shape是(2,3,4) dim可取0,1,2,-1,-2,-3\n",
        "\n",
        "\n",
        "复数表示倒数第几个维度"
      ],
      "metadata": {
        "id": "ou-DwT3oAND5"
      }
    },
    {
      "cell_type": "code",
      "source": [
        "x=torch.rand(5,5)\n",
        "values,indices=torch.max(x,dim=0)\n",
        "x,values,indices\n",
        "# dim=0表示每列最大值    dim=1表示每行最小值"
      ],
      "metadata": {
        "colab": {
          "base_uri": "https://localhost:8080/"
        },
        "id": "N100AeVHACP5",
        "outputId": "44dc05b0-a6e5-43b1-90bf-50a2969d2352"
      },
      "execution_count": 17,
      "outputs": [
        {
          "output_type": "execute_result",
          "data": {
            "text/plain": [
              "(tensor([[0.2575, 0.0887, 0.9762, 0.0736, 0.7991],\n",
              "         [0.2353, 0.5906, 0.6285, 0.2329, 0.3514],\n",
              "         [0.2986, 0.0818, 0.0987, 0.1556, 0.6180],\n",
              "         [0.6648, 0.1028, 0.1508, 0.8625, 0.7650],\n",
              "         [0.7352, 0.2957, 0.9733, 0.1524, 0.3063]]),\n",
              " tensor([0.7352, 0.5906, 0.9762, 0.8625, 0.7991]),\n",
              " tensor([4, 1, 0, 3, 0]))"
            ]
          },
          "metadata": {},
          "execution_count": 17
        }
      ]
    },
    {
      "cell_type": "code",
      "source": [
        "abs_x=torch.abs(x)  #求绝对值\n",
        "\n",
        "z=torch.argmax(x,dim=0)  # 最大值的位置\n",
        "x,z"
      ],
      "metadata": {
        "colab": {
          "base_uri": "https://localhost:8080/"
        },
        "id": "5Rc4xQNrLcFX",
        "outputId": "895cb652-445e-4743-da0c-f42713c72c7c"
      },
      "execution_count": 18,
      "outputs": [
        {
          "output_type": "execute_result",
          "data": {
            "text/plain": [
              "(tensor([[0.2575, 0.0887, 0.9762, 0.0736, 0.7991],\n",
              "         [0.2353, 0.5906, 0.6285, 0.2329, 0.3514],\n",
              "         [0.2986, 0.0818, 0.0987, 0.1556, 0.6180],\n",
              "         [0.6648, 0.1028, 0.1508, 0.8625, 0.7650],\n",
              "         [0.7352, 0.2957, 0.9733, 0.1524, 0.3063]]),\n",
              " tensor([4, 1, 0, 3, 0]))"
            ]
          },
          "metadata": {},
          "execution_count": 18
        }
      ]
    },
    {
      "cell_type": "code",
      "source": [
        "mean=torch.mean(x.float(),dim=0)"
      ],
      "metadata": {
        "id": "x6NYtjOzLwe6"
      },
      "execution_count": 19,
      "outputs": []
    },
    {
      "cell_type": "code",
      "source": [
        "x=torch.tensor([1,2,3])\n",
        "y=torch.tensor([4,5,6])\n",
        "\n",
        "z=torch.eq(x,y)\n",
        "z  #判断是否一样"
      ],
      "metadata": {
        "colab": {
          "base_uri": "https://localhost:8080/"
        },
        "id": "hHZf6VbTL4tU",
        "outputId": "61059961-8ad9-406d-8f20-c4d3ac80592a"
      },
      "execution_count": 20,
      "outputs": [
        {
          "output_type": "execute_result",
          "data": {
            "text/plain": [
              "tensor([False, False, False])"
            ]
          },
          "metadata": {},
          "execution_count": 20
        }
      ]
    },
    {
      "cell_type": "code",
      "source": [
        "x=torch.tensor([-1,-2,3,4,5])\n",
        "z=torch.clamp(x,min=0)\n",
        "z\n",
        "# 表示小于0的都置0  其他的不管"
      ],
      "metadata": {
        "colab": {
          "base_uri": "https://localhost:8080/"
        },
        "id": "C5PWVV-_NHtd",
        "outputId": "bbd32a8e-d0c0-4ec8-ba1d-67f46fd27a40"
      },
      "execution_count": 21,
      "outputs": [
        {
          "output_type": "execute_result",
          "data": {
            "text/plain": [
              "tensor([0, 0, 3, 4, 5])"
            ]
          },
          "metadata": {},
          "execution_count": 21
        }
      ]
    },
    {
      "cell_type": "code",
      "source": [
        "x=torch.tensor([0,1,0,1,1],dtype=torch.bool)\n",
        "z1=torch.any(x)   #有一个是 1 的就可以\n",
        "z2=torch.all(x)   #必须要所有的都是 1\n",
        "z1,z2"
      ],
      "metadata": {
        "colab": {
          "base_uri": "https://localhost:8080/"
        },
        "id": "M-WgrhxSNWp1",
        "outputId": "7f75f4e1-991d-4e9c-ed06-7bcd7b944a4f"
      },
      "execution_count": 22,
      "outputs": [
        {
          "output_type": "execute_result",
          "data": {
            "text/plain": [
              "(tensor(True), tensor(False))"
            ]
          },
          "metadata": {},
          "execution_count": 22
        }
      ]
    },
    {
      "cell_type": "markdown",
      "source": [
        "# Tensor Indexing\n"
      ],
      "metadata": {
        "id": "_DC1iQsZN2hR"
      }
    },
    {
      "cell_type": "code",
      "source": [
        "batch_size=10\n",
        "features=25\n",
        "\n",
        "x=torch.rand(batch_size,features)\n",
        "x[0].shape,x[:,0].shape\n",
        "\n",
        "x[2,0:10]"
      ],
      "metadata": {
        "colab": {
          "base_uri": "https://localhost:8080/"
        },
        "id": "PBj4THAaOyGb",
        "outputId": "063d4041-c098-4f6b-f938-c8dd28e18397"
      },
      "execution_count": 23,
      "outputs": [
        {
          "output_type": "execute_result",
          "data": {
            "text/plain": [
              "tensor([0.9527, 0.8816, 0.6895, 0.0403, 0.2704, 0.3468, 0.1444, 0.8158, 0.5989,\n",
              "        0.0930])"
            ]
          },
          "metadata": {},
          "execution_count": 23
        }
      ]
    },
    {
      "cell_type": "code",
      "source": [
        "# Fancy Indexing\n",
        "x=torch.arange(10)\n",
        "indices=[2,5,8]\n",
        "x[indices]"
      ],
      "metadata": {
        "colab": {
          "base_uri": "https://localhost:8080/"
        },
        "id": "__Cfk902PgwA",
        "outputId": "efa5d750-fa8c-4141-ebc0-86c621c06f8c"
      },
      "execution_count": 24,
      "outputs": [
        {
          "output_type": "execute_result",
          "data": {
            "text/plain": [
              "tensor([2, 5, 8])"
            ]
          },
          "metadata": {},
          "execution_count": 24
        }
      ]
    },
    {
      "cell_type": "code",
      "source": [
        "x=torch.rand(3,5)\n",
        "rows=torch.tensor([1,0])\n",
        "cols=torch.tensor([4,0])\n",
        "x,x[rows,cols]\n",
        "#一种高级索引  分别给出需要取得点的  行标和列标"
      ],
      "metadata": {
        "colab": {
          "base_uri": "https://localhost:8080/"
        },
        "id": "JEm3w7Q-QrkI",
        "outputId": "424478d2-0cdd-4cd0-875c-410a9321a692"
      },
      "execution_count": 25,
      "outputs": [
        {
          "output_type": "execute_result",
          "data": {
            "text/plain": [
              "(tensor([[0.7304, 0.3942, 0.1346, 0.0016, 0.8795],\n",
              "         [0.7953, 0.6086, 0.2094, 0.3586, 0.2272],\n",
              "         [0.5158, 0.2353, 0.4928, 0.8655, 0.0060]]),\n",
              " tensor([0.2272, 0.7304]))"
            ]
          },
          "metadata": {},
          "execution_count": 25
        }
      ]
    },
    {
      "cell_type": "code",
      "source": [
        "#useful operation\n",
        "x=torch.tensor([0,1,0,3,3,2,2,4,3,4])\n",
        "x.unique()"
      ],
      "metadata": {
        "colab": {
          "base_uri": "https://localhost:8080/"
        },
        "id": "8yKEoQfGozyE",
        "outputId": "973c12a6-423c-4d34-bdaf-76e5031fd4b6"
      },
      "execution_count": 26,
      "outputs": [
        {
          "output_type": "execute_result",
          "data": {
            "text/plain": [
              "tensor([0, 1, 2, 3, 4])"
            ]
          },
          "metadata": {},
          "execution_count": 26
        }
      ]
    },
    {
      "cell_type": "markdown",
      "source": [
        "# Tensor Reshape\n"
      ],
      "metadata": {
        "id": "OpKwpjk7pQ7G"
      }
    },
    {
      "cell_type": "code",
      "source": [
        "x=torch.arange(9)\n",
        "x1=x.view(3,3)\n",
        "x2=x.reshape(3,3)\n",
        "x1,x2"
      ],
      "metadata": {
        "colab": {
          "base_uri": "https://localhost:8080/"
        },
        "id": "d4SQYzmdpVdV",
        "outputId": "798d5acc-da37-448d-f06e-71cb58735a55"
      },
      "execution_count": 28,
      "outputs": [
        {
          "output_type": "execute_result",
          "data": {
            "text/plain": [
              "(tensor([[0, 1, 2],\n",
              "         [3, 4, 5],\n",
              "         [6, 7, 8]]),\n",
              " tensor([[0, 1, 2],\n",
              "         [3, 4, 5],\n",
              "         [6, 7, 8]]))"
            ]
          },
          "metadata": {},
          "execution_count": 28
        }
      ]
    },
    {
      "cell_type": "code",
      "source": [
        "x1=torch.rand(3,3)\n",
        "x2=torch.rand(3,3)\n",
        "x=torch.cat((x1,x2),dim=0)\n",
        "y=torch.cat((x1,x2),dim=1)\n",
        "x1,x2,x,y"
      ],
      "metadata": {
        "colab": {
          "base_uri": "https://localhost:8080/"
        },
        "id": "8FqhmN0ErpX7",
        "outputId": "6e58c1f3-33a0-424f-d409-f5ab9c857ebd"
      },
      "execution_count": 31,
      "outputs": [
        {
          "output_type": "execute_result",
          "data": {
            "text/plain": [
              "(tensor([[0.5352, 0.9502, 0.6725],\n",
              "         [0.8349, 0.3918, 0.6584],\n",
              "         [0.8702, 0.0677, 0.8869]]),\n",
              " tensor([[0.8205, 0.7790, 0.7067],\n",
              "         [0.5696, 0.6717, 0.9729],\n",
              "         [0.4971, 0.1718, 0.6396]]),\n",
              " tensor([[0.5352, 0.9502, 0.6725],\n",
              "         [0.8349, 0.3918, 0.6584],\n",
              "         [0.8702, 0.0677, 0.8869],\n",
              "         [0.8205, 0.7790, 0.7067],\n",
              "         [0.5696, 0.6717, 0.9729],\n",
              "         [0.4971, 0.1718, 0.6396]]),\n",
              " tensor([[0.5352, 0.9502, 0.6725, 0.8205, 0.7790, 0.7067],\n",
              "         [0.8349, 0.3918, 0.6584, 0.5696, 0.6717, 0.9729],\n",
              "         [0.8702, 0.0677, 0.8869, 0.4971, 0.1718, 0.6396]]))"
            ]
          },
          "metadata": {},
          "execution_count": 31
        }
      ]
    },
    {
      "cell_type": "code",
      "source": [
        "# permute置换维度\n",
        "x=torch.rand(32,3,224,224) #假设分别就代表   batch_size channels height  width\n",
        "x=x.permute(0,2,3,1)\n",
        "x.shape"
      ],
      "metadata": {
        "colab": {
          "base_uri": "https://localhost:8080/"
        },
        "id": "pYaBIABFs7Bl",
        "outputId": "47d92168-f58a-4921-edc6-5f7a5bb6515b"
      },
      "execution_count": 32,
      "outputs": [
        {
          "output_type": "execute_result",
          "data": {
            "text/plain": [
              "torch.Size([32, 224, 224, 3])"
            ]
          },
          "metadata": {},
          "execution_count": 32
        }
      ]
    }
  ]
}