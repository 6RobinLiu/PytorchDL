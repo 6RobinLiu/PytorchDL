{
  "nbformat": 4,
  "nbformat_minor": 0,
  "metadata": {
    "colab": {
      "provenance": [],
      "authorship_tag": "ABX9TyMY9ufzb4CpGdKVjuyzb3g7",
      "include_colab_link": true
    },
    "kernelspec": {
      "name": "python3",
      "display_name": "Python 3"
    },
    "language_info": {
      "name": "python"
    }
  },
  "cells": [
    {
      "cell_type": "markdown",
      "metadata": {
        "id": "view-in-github",
        "colab_type": "text"
      },
      "source": [
        "<a href=\"https://colab.research.google.com/github/6RobinLiu/PytorchDL/blob/main/LeNet.ipynb\" target=\"_parent\"><img src=\"https://colab.research.google.com/assets/colab-badge.svg\" alt=\"Open In Colab\"/></a>"
      ]
    },
    {
      "cell_type": "code",
      "execution_count": 3,
      "metadata": {
        "id": "UFQl5sEdDvkW"
      },
      "outputs": [],
      "source": [
        "import torch\n",
        "import torch.nn as nn\n"
      ]
    },
    {
      "cell_type": "code",
      "source": [
        "import torch\n",
        "import torch.nn as nn\n",
        "\n",
        "class LeNet(nn.Module):\n",
        "    def __init__(self):  # 修复了 __init__ 拼写\n",
        "        super().__init__()\n",
        "        self.relu = nn.ReLU()\n",
        "        self.pool = nn.AvgPool2d(kernel_size=2, stride=2)\n",
        "        self.conv1 = nn.Conv2d(in_channels=1, out_channels=6, kernel_size=5)\n",
        "        self.conv2 = nn.Conv2d(in_channels=6, out_channels=16, kernel_size=5)\n",
        "        self.conv3 = nn.Conv2d(in_channels=16, out_channels=120, kernel_size=5)\n",
        "\n",
        "        self.linear1 = nn.Linear(120, 84)\n",
        "        self.linear2 = nn.Linear(84, 10)\n",
        "\n",
        "    def forward(self, x):\n",
        "        x = self.relu(self.conv1(x))  # (32-5+1)=28\n",
        "        x = self.pool(x)              # 28→14\n",
        "        x = self.relu(self.conv2(x))  # 14-5+1=10\n",
        "        x = self.pool(x)              # 10→5\n",
        "        x = self.relu(self.conv3(x))  # 5-5+1=1，输出为 (batch, 120, 1, 1)\n",
        "        x = x.view(x.size(0), -1)     # flatten\n",
        "        x = self.relu(self.linear1(x))\n",
        "        x = self.linear2(x)\n",
        "        return x\n",
        "\n",
        "# 测试\n",
        "x = torch.randn(64, 1, 32, 32)\n",
        "model = LeNet()\n",
        "print(model(x).shape)  # 应该输出 torch.Size([64, 10])\n"
      ],
      "metadata": {
        "colab": {
          "base_uri": "https://localhost:8080/"
        },
        "id": "gD3z9TPZQswK",
        "outputId": "258ef6a4-b6ec-4267-f524-58171ca7df31"
      },
      "execution_count": 6,
      "outputs": [
        {
          "output_type": "stream",
          "name": "stdout",
          "text": [
            "torch.Size([64, 10])\n"
          ]
        }
      ]
    },
    {
      "cell_type": "code",
      "source": [],
      "metadata": {
        "id": "rYxHdSZZXgBI"
      },
      "execution_count": null,
      "outputs": []
    }
  ]
}